{
 "cells": [
  {
   "cell_type": "code",
   "execution_count": 3,
   "metadata": {},
   "outputs": [],
   "source": [
    "class Solution(object):\n",
    "    def longestIncreasingPath(self, matrix):\n",
    "        \"\"\"\n",
    "        :type matrix: List[List[int]]\n",
    "        :rtype: int\n",
    "        \"\"\"\n",
    "        # Obter o número de linhas (ROWS) e colunas (COLS) da matriz\n",
    "        ROWS, COLS = len(matrix), len(matrix[0])\n",
    "        \n",
    "        # Dicionário para armazenar os resultados de subproblemas (memoização)\n",
    "        dp = {}  # (r, c) -> caminho mais longo a partir de (r, c)\n",
    "        \n",
    "        # Função auxiliar para fazer a busca em profundidade (DFS)\n",
    "        def dfs(r, c, prevVal):\n",
    "            # Verificar se a posição está fora dos limites da matriz ou não faz parte de um caminho crescente\n",
    "            if (r < 0 or r == ROWS or c < 0 or c == COLS or matrix[r][c] <= prevVal):\n",
    "                return 0\n",
    "            \n",
    "            # Se o resultado já foi calculado, retornar o valor armazenado\n",
    "            if (r, c) in dp:\n",
    "                return dp[(r, c)]\n",
    "            \n",
    "            # Inicializar a variável res para o caminho mínimo possível (1, a célula atual)\n",
    "            res = 1\n",
    "            \n",
    "            # Explorar todas as quatro direções e calcular o caminho mais longo\n",
    "            res = max(res, 1 + dfs(r + 1, c, matrix[r][c]))  # Para baixo\n",
    "            res = max(res, 1 + dfs(r - 1, c, matrix[r][c]))  # Para cima\n",
    "            res = max(res, 1 + dfs(r, c + 1, matrix[r][c]))  # Para a direita\n",
    "            res = max(res, 1 + dfs(r, c - 1, matrix[r][c]))  # Para a esquerda\n",
    "            \n",
    "            # Armazenar o resultado no dicionário dp\n",
    "            dp[(r, c)] = res\n",
    "            return res\n",
    "        \n",
    "        # Iterar por todas as células da matriz para garantir que todos os caminhos sejam explorados\n",
    "        for r in range(ROWS):\n",
    "            for c in range(COLS):\n",
    "                dfs(r, c, -1)  # Iniciar DFS com um valor menor que qualquer célula\n",
    "        \n",
    "        # Retornar o maior caminho encontrado\n",
    "        return max(dp.values())\n"
   ]
  },
  {
   "cell_type": "code",
   "execution_count": null,
   "metadata": {},
   "outputs": [
    {
     "name": "stdout",
     "output_type": "stream",
     "text": [
      "O comprimento do caminho mais longo crescente é: 7\n"
     ]
    }
   ],
   "source": [
    "# Criar uma instância da classe Solution\n",
    "sol = Solution()\n",
    "\n",
    "# Definir uma matriz de exemplo para testar\n",
    "matriz_exemplo = [\n",
    "    [9, 10, 11],\n",
    "    [6, 6, 8],\n",
    "    [3, 2, 1]\n",
    "]\n",
    "\n",
    "# Chamar o método e imprimir o resultado\n",
    "resultado = sol.longestIncreasingPath(matriz_exemplo)\n",
    "print(\"O comprimento do caminho mais longo crescente é:\", resultado)"
   ]
  }
 ],
 "metadata": {
  "kernelspec": {
   "display_name": "Python 3",
   "language": "python",
   "name": "python3"
  },
  "language_info": {
   "codemirror_mode": {
    "name": "ipython",
    "version": 3
   },
   "file_extension": ".py",
   "mimetype": "text/x-python",
   "name": "python",
   "nbconvert_exporter": "python",
   "pygments_lexer": "ipython3",
   "version": "3.13.0"
  }
 },
 "nbformat": 4,
 "nbformat_minor": 2
}
