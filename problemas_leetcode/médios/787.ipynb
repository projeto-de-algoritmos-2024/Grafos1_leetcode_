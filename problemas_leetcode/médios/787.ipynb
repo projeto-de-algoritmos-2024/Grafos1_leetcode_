{
 "cells": [
  {
   "cell_type": "code",
   "execution_count": 5,
   "metadata": {},
   "outputs": [
    {
     "data": {
      "text/plain": [
       "'\\nALGORITMO Bellman-Ford\\nEntrada: \\n  - V (número de vértices)\\n  - E (lista de arestas com formato [origem, destino, peso])\\n  - origem (vértice de origem)\\n\\nPasso 1: Inicializar as distâncias\\n  Para cada vértice v em V:\\n    Se v for igual à origem:\\n      distância[v] = 0\\n    Caso contrário:\\n      distância[v] = infinito\\n\\nPasso 2: Relaxar as arestas V-1 vezes\\n  Para i de 1 até V-1:\\n    Para cada aresta (u, v, peso) em E:\\n      Se distância[u] + peso < distância[v]:\\n        distância[v] = distância[u] + peso\\n\\nPasso 3: Verificar ciclos negativos\\n  Para cada aresta (u, v, peso) em E:\\n    Se distância[u] + peso < distância[v]:\\n      Imprimir \"Ciclo negativo detectado\"\\n      Retornar falso\\n\\nRetornar distância (distâncias mais curtas da origem para todos os vértices)\\n'"
      ]
     },
     "execution_count": 5,
     "metadata": {},
     "output_type": "execute_result"
    }
   ],
   "source": [
    "# Algoritmo de Bellman-Ford\n",
    "#O algoritmo de Bellman-Ford é usado para encontrar os caminhos mais curtos de um único vértice de origem para todos os outros vértices em um grafo, que pode conter arestas com pesos negativos.\n",
    "        \n",
    "\"\"\"\n",
    "ALGORITMO Bellman-Ford\n",
    "Entrada: \n",
    "  - V (número de vértices)\n",
    "  - E (lista de arestas com formato [origem, destino, peso])\n",
    "  - origem (vértice de origem)\n",
    "\n",
    "Passo 1: Inicializar as distâncias\n",
    "  Para cada vértice v em V:\n",
    "    Se v for igual à origem:\n",
    "      distância[v] = 0\n",
    "    Caso contrário:\n",
    "      distância[v] = infinito\n",
    "\n",
    "Passo 2: Relaxar as arestas V-1 vezes\n",
    "  Para i de 1 até V-1:\n",
    "    Para cada aresta (u, v, peso) em E:\n",
    "      Se distância[u] + peso < distância[v]:\n",
    "        distância[v] = distância[u] + peso\n",
    "\n",
    "Passo 3: Verificar ciclos negativos\n",
    "  Para cada aresta (u, v, peso) em E:\n",
    "    Se distância[u] + peso < distância[v]:\n",
    "      Imprimir \"Ciclo negativo detectado\"\n",
    "      Retornar falso\n",
    "\n",
    "Retornar distância (distâncias mais curtas da origem para todos os vértices)\n",
    "\"\"\""
   ]
  },
  {
   "cell_type": "code",
   "execution_count": 6,
   "metadata": {},
   "outputs": [],
   "source": [
    "class Solution(object):\n",
    "    def findCheapestPrice(self, n, flights, src, dst, k):\n",
    "        \"\"\"\n",
    "        :type n: int\n",
    "        :type flights: List[List[int]]\n",
    "        :type src: int\n",
    "        :type dst: int\n",
    "        :type k: int\n",
    "        :rtype: int\n",
    "        \"\"\"\n",
    "       \n",
    "        prices = [float(\"inf\")] * n  # Inicializa um array para armazenar os menores preços para cada cidade\n",
    "        prices[src] = 0  # O custo de chegar à cidade de origem é 0\n",
    "\n",
    "        # Itera até `k + 1` vezes (permitindo até `k` paradas)\n",
    "        for i in range(k + 1):\n",
    "            tmpPrices = prices.copy()  # Cria uma cópia temporária do array de preços para a iteração atual\n",
    "\n",
    "            # Itera por todos os voos disponíveis\n",
    "            for source, destination, price in flights:\n",
    "                # Se o preço para a cidade de origem do voo for infinito, ignore\n",
    "                if prices[source] == float(\"inf\"):\n",
    "                    continue\n",
    "\n",
    "                # Verifica se o preço atual + o preço do voo é menor do que o preço armazenado\n",
    "                if prices[source] + price < tmpPrices[destination]:\n",
    "                    tmpPrices[destination] = prices[source] + price  # Atualiza o menor preço\n",
    "\n",
    "            # Atualiza os preços com os valores da cópia temporária\n",
    "            prices = tmpPrices\n",
    "\n",
    "        # Se o preço para o destino ainda for infinito, significa que não foi encontrado um caminho\n",
    "        return -1 if prices[dst] == float(\"inf\") else prices[dst]"
   ]
  },
  {
   "cell_type": "code",
   "execution_count": null,
   "metadata": {},
   "outputs": [
    {
     "name": "stdout",
     "output_type": "stream",
     "text": [
      "Menor custo para ir de 0 para 3 com no máximo 1 paradas: 700\n"
     ]
    }
   ],
   "source": [
    "# Exemplo de teste 1\n",
    "solucao = Solution()\n",
    "\n",
    "# Parâmetros do teste:\n",
    "# n = número de cidades (vértices)\n",
    "# flights = lista de voos [origem, destino, custo]\n",
    "# src = cidade de origem\n",
    "# dst = cidade de destino\n",
    "# k = número máximo de paradas\n",
    "\n",
    "n = 4\n",
    "flights = [[0,1,100],[1,2,100],[2,0,100],[1,3,600],[2,3,200]]\n",
    "src = 0\n",
    "dst = 3\n",
    "k = 1\n",
    "\n",
    "# Executa o teste\n",
    "resultado = solucao.findCheapestPrice(n, flights, src, dst, k)\n",
    "print(f\"Menor custo para ir de {src} para {dst} com no máximo {k} paradas: {resultado}\")"
   ]
  },
  {
   "cell_type": "code",
   "execution_count": null,
   "metadata": {},
   "outputs": [
    {
     "name": "stdout",
     "output_type": "stream",
     "text": [
      "Menor custo para ir de 0 para 2 com no máximo 1 paradas: 200\n"
     ]
    }
   ],
   "source": [
    "# Exemplo de teste 2\n",
    "n = 3\n",
    "flights = [[0,1,100],[1,2,100],[0,2,500]]\n",
    "src = 0\n",
    "dst = 2\n",
    "k = 1\n",
    "\n",
    "# Executa o teste\n",
    "resultado = solucao.findCheapestPrice(n, flights, src, dst, k)\n",
    "print(f\"Menor custo para ir de {src} para {dst} com no máximo {k} paradas: {resultado}\")"
   ]
  },
  {
   "cell_type": "code",
   "execution_count": null,
   "metadata": {},
   "outputs": [
    {
     "name": "stdout",
     "output_type": "stream",
     "text": [
      "Menor custo para ir de 0 para 2 com no máximo 0 paradas: 500\n"
     ]
    }
   ],
   "source": [
    "# Exemplo de teste 3\n",
    "n = 3\n",
    "flights = [[0,1,100],[1,2,100],[0,2,500]]\n",
    "src = 0\n",
    "dst = 2\n",
    "k = 0\n",
    "\n",
    "# Executa o teste\n",
    "resultado = solucao.findCheapestPrice(n, flights, src, dst, k)\n",
    "print(f\"Menor custo para ir de {src} para {dst} com no máximo {k} paradas: {resultado}\")"
   ]
  }
 ],
 "metadata": {
  "kernelspec": {
   "display_name": "Python 3",
   "language": "python",
   "name": "python3"
  },
  "language_info": {
   "codemirror_mode": {
    "name": "ipython",
    "version": 3
   },
   "file_extension": ".py",
   "mimetype": "text/x-python",
   "name": "python",
   "nbconvert_exporter": "python",
   "pygments_lexer": "ipython3",
   "version": "3.13.0"
  }
 },
 "nbformat": 4,
 "nbformat_minor": 2
}
